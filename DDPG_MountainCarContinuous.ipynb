{
 "cells": [
  {
   "cell_type": "code",
   "execution_count": 1,
   "metadata": {},
   "outputs": [],
   "source": [
    "import gym\n",
    "import tensorflow as tf \n",
    "from tensorflow import optimizers, keras\n",
    "from tensorflow.keras import layers\n",
    "import numpy as np"
   ]
  },
  {
   "cell_type": "code",
   "execution_count": 2,
   "metadata": {},
   "outputs": [],
   "source": [
    "env_name = \"MountainCarContinuous-v0\"\n",
    "env = gym.make(env_name)\n",
    "num_states = env.observation_space.shape[0]\n",
    "num_actions = env.action_space.shape[0]\n",
    "upper_bound = env.action_space.high[0]\n",
    "lower_bound = env.action_space.low[0]"
   ]
  },
  {
   "cell_type": "code",
   "execution_count": 3,
   "metadata": {},
   "outputs": [
    {
     "data": {
      "text/plain": [
       "(2, 1, 1.0, -1.0)"
      ]
     },
     "execution_count": 3,
     "metadata": {},
     "output_type": "execute_result"
    }
   ],
   "source": [
    "num_states, num_actions, upper_bound, lower_bound"
   ]
  },
  {
   "cell_type": "code",
   "execution_count": 4,
   "metadata": {},
   "outputs": [],
   "source": [
    "class Noise : \n",
    "    def __init__(self, mean, std, theta=0.15, dt=1e-2, x_initial=None) :\n",
    "        self.theta = theta\n",
    "        self.mean = mean\n",
    "        self.std = std\n",
    "        self.dt = dt \n",
    "        self.x_initial = x_initial\n",
    "        self.reset()\n",
    "        \n",
    "    def __call__(self) : \n",
    "        x = (\n",
    "            self.x_prev \n",
    "            + self.theta * (self.mean - self.x_prev) * self.dt\n",
    "            + self.std * np.sqrt(self.dt) * np.random.normal(size=self.mean.shape)\n",
    "        )\n",
    "        self.x_prev = x\n",
    "        return x\n",
    "    \n",
    "    def reset(self) :\n",
    "        self.x_prev = np.zeros_like(self.mean) if self.x_initial is None else self.x_initial"
   ]
  },
  {
   "cell_type": "code",
   "execution_count": 5,
   "metadata": {},
   "outputs": [],
   "source": [
    "class Buffer :\n",
    "    def __init__(self, buffer_cap=1e5, batch_size=64) :\n",
    "        self.buffer_cap = buffer_cap\n",
    "        self.batch_size = batch_size\n",
    "        self.buffer_count = 0\n",
    "        self.states = np.zeros((self.buffer_cap, num_states))\n",
    "        self.actions = np.zeros((self.buffer_cap, num_actions))\n",
    "        self.rewards = np.zeros((self.buffer_cap, 1))\n",
    "        self.next_states = np.zeros((self.buffer_cap, num_states))\n",
    "        \n",
    "    def record(self, observation) :\n",
    "        index = self.buffer_count % self.buffer_cap\n",
    "        self.states[index] = observation[0]\n",
    "        self.actions[index] = observation[1]\n",
    "        self.rewards[index] = observation[2]\n",
    "        self.next_states[index] = observation[3]\n",
    "        self.buffer_count += 1\n",
    "        \n",
    "    @tf.function\n",
    "    def update(self, state_batch, action_batch, reward_batch, next_state_batch) :\n",
    "        with tf.GradientTape() as tape :\n",
    "            target_actions = target_actor(next_state_batch, training=True)\n",
    "            y = reward_batch + gamma * target_critic([next_state_batch, target_actions], training=True)\n",
    "            critic_value = critic_model([state_batch, action_batch], training=True)\n",
    "            critic_loss = tf.math.reduce_mean(tf.math.square(y - critic_value))\n",
    "        critic_grad = tape.gradient(critic_loss, critic_model.trainable_variables)\n",
    "        critic_optimizer.apply_gradients(zip(critic_grad, critic_model.trainable_variables))\n",
    "        \n",
    "        with tf.GradientTape() as tape :\n",
    "            actions = actor_model(next_state_batch, training=True)\n",
    "            critic_value = critic_model([state_batch, actions], training=True)\n",
    "            actor_loss = -tf.math.reduce_mean(critic_value)\n",
    "        actor_grad = tape.gradient(actor_loss, actor_model.trainable_variables)\n",
    "        actor_optimizer.apply_gradients(zip(actor_grad, actor_model.trainable_variables))\n",
    "    \n",
    "    def learn(self) :\n",
    "        record_range = min(self.buffer_count, self.buffer_cap)\n",
    "        batch = np.random.choice(record_range, self.batch_size)\n",
    "        \n",
    "        state_batch = tf.convert_to_tensor(self.states[batch])\n",
    "        action_batch = tf.convert_to_tensor(self.actions[batch])\n",
    "        reward_batch = tf.convert_to_tensor(self.rewards[batch], dtype=tf.float32)\n",
    "        next_state_batch = tf.convert_to_tensor(self.next_states[batch])\n",
    "        \n",
    "        self.update(state_batch, action_batch, reward_batch, next_state_batch)\n",
    "\n",
    "@tf.function\n",
    "def update_target(target_weights, weights, tau) :\n",
    "    for (a,b) in zip(target_weights, weights) :\n",
    "        a.assign(b*tau+a*(1-tau))"
   ]
  },
  {
   "cell_type": "code",
   "execution_count": 6,
   "metadata": {},
   "outputs": [],
   "source": [
    "def get_actor() :\n",
    "    last_init = tf.random_uniform_initializer(minval=-3e-3, maxval=3e-3)\n",
    "    inputs = layers.Input(shape=(num_states,))\n",
    "    out = layers.Dense(256, activation='relu')(inputs)\n",
    "    out = layers.Dense(256, activation='relu')(out)\n",
    "    out = layers.Dense(1, activation='tanh', kernel_initializer=last_init)(out)\n",
    "    out *= upper_bound\n",
    "    return tf.keras.Model(inputs, out)\n",
    "\n",
    "def get_critic() :\n",
    "    state_input = layers.Input(shape=(num_states))\n",
    "    state_out = layers.Dense(16, activation='relu')(state_input)\n",
    "    state_out = layers.Dense(32, activation='relu')(state_out)\n",
    "    action_input = layers.Input(shape=(num_actions))\n",
    "    action_out = layers.Dense(32, activation='relu')(action_input)\n",
    "    concat = layers.Concatenate()([state_out, action_out])\n",
    "    out = layers.Dense(256, activation='relu')(concat)\n",
    "    out = layers.Dense(256, activation='relu')(out)\n",
    "    outputs = layers.Dense(1)(out)\n",
    "    return keras.Model([state_input, action_input], outputs)"
   ]
  },
  {
   "cell_type": "code",
   "execution_count": 7,
   "metadata": {},
   "outputs": [],
   "source": [
    "def policy(state, noise_object, epsilon=1.0) :\n",
    "    sampled_actions = tf.squeeze(actor_model(state))\n",
    "    noise = noise_object()\n",
    "    sampled_actions = sampled_actions.numpy() + noise * epsilon\n",
    "    legal_actions = np.clip(sampled_actions, lower_bound, upper_bound)\n",
    "    return [np.squeeze(legal_actions)]"
   ]
  },
  {
   "cell_type": "code",
   "execution_count": 8,
   "metadata": {},
   "outputs": [],
   "source": [
    "std = 0.7\n",
    "noise = Noise(mean=np.zeros(1), std = float(std*np.ones(1)))\n",
    "\n",
    "actor_model = get_actor()\n",
    "critic_model = get_critic()\n",
    "target_actor = get_actor()\n",
    "target_critic = get_critic()\n",
    "\n",
    "target_actor.set_weights(actor_model.get_weights())\n",
    "target_critic.set_weights(critic_model.get_weights())\n",
    "\n",
    "critic_lr = 0.002\n",
    "actor_lr = 0.001\n",
    "\n",
    "critic_optimizer = tf.keras.optimizers.Adam(critic_lr)\n",
    "actor_optimizer = tf.keras.optimizers.Adam(actor_lr)\n",
    "\n",
    "total_episodes = 100\n",
    "gamma = 0.99\n",
    "epsilon = 1.0\n",
    "tau = 0.005\n",
    "\n",
    "buffer = Buffer(50000, 64)"
   ]
  },
  {
   "cell_type": "code",
   "execution_count": 9,
   "metadata": {},
   "outputs": [],
   "source": [
    "# To store reward history of each episode\n",
    "ep_reward_list = []\n",
    "# To store average reward history of last few episodes\n",
    "avg_reward_list = []"
   ]
  },
  {
   "cell_type": "code",
   "execution_count": 10,
   "metadata": {},
   "outputs": [
    {
     "name": "stdout",
     "output_type": "stream",
     "text": [
      "Episode * 0 846 * Avg Reward is ==> 75.91290014853779\n",
      "Episode * 1 999 * Avg Reward is ==> -3.5210080468332023\n",
      "Episode * 2 999 * Avg Reward is ==> -35.64733869788834\n",
      "Episode * 3 999 * Avg Reward is ==> -51.58696371737358\n",
      "Episode * 4 999 * Avg Reward is ==> -61.249570973898585\n",
      "Episode * 5 999 * Avg Reward is ==> -54.24933098057367\n",
      "Episode * 6 999 * Avg Reward is ==> -55.03669971266287\n",
      "Episode * 7 999 * Avg Reward is ==> -53.194318624823616\n",
      "Episode * 8 999 * Avg Reward is ==> -50.03505207431671\n",
      "Episode * 9 730 * Avg Reward is ==> -36.91724364434683\n",
      "Episode * 10 999 * Avg Reward is ==> -41.924429921595625\n",
      "Episode * 11 213 * Avg Reward is ==> -31.172074054472663\n",
      "Episode * 12 279 * Avg Reward is ==> -21.895899576932386\n",
      "Episode * 13 271 * Avg Reward is ==> -13.90468145619548\n",
      "Episode * 14 235 * Avg Reward is ==> -7.069175303600474\n",
      "Episode * 15 126 * Avg Reward is ==> -0.8937541762448831\n",
      "Episode * 16 132 * Avg Reward is ==> 4.406370415769935\n",
      "Episode * 17 280 * Avg Reward is ==> 8.567735487335035\n",
      "Episode * 18 149 * Avg Reward is ==> 12.702648580012443\n",
      "Episode * 19 145 * Avg Reward is ==> 16.412622072610134\n",
      "Episode * 20 148 * Avg Reward is ==> 19.77589170228239\n",
      "Episode * 21 152 * Avg Reward is ==> 22.804641906805212\n",
      "Episode * 22 549 * Avg Reward is ==> 23.97718540589475\n",
      "Episode * 23 499 * Avg Reward is ==> 25.470575090804754\n",
      "Episode * 24 346 * Avg Reward is ==> 27.442211196933496\n",
      "Episode * 25 236 * Avg Reward is ==> 29.601082220967562\n",
      "Episode * 26 869 * Avg Reward is ==> 30.45136994451695\n",
      "Episode * 27 172 * Avg Reward is ==> 32.46425692052966\n",
      "Episode * 28 255 * Avg Reward is ==> 34.16963421082311\n",
      "Episode * 29 245 * Avg Reward is ==> 35.75347493463985\n",
      "Episode * 30 416 * Avg Reward is ==> 36.987160339831526\n",
      "Episode * 31 404 * Avg Reward is ==> 38.084562148500495\n",
      "Episode * 32 253 * Avg Reward is ==> 39.42427333966257\n",
      "Episode * 33 153 * Avg Reward is ==> 40.88555867842857\n",
      "Episode * 34 262 * Avg Reward is ==> 42.07121756055171\n",
      "Episode * 35 999 * Avg Reward is ==> 40.277637686756684\n",
      "Episode * 36 148 * Avg Reward is ==> 41.58106410102571\n",
      "Episode * 37 250 * Avg Reward is ==> 42.72576554012293\n",
      "Episode * 38 999 * Avg Reward is ==> 41.44554427776229\n",
      "Episode * 39 348 * Avg Reward is ==> 42.743868855484344\n",
      "Episode * 40 69 * Avg Reward is ==> 43.20470420422042\n",
      "Episode * 41 71 * Avg Reward is ==> 47.61416857266539\n",
      "Episode * 42 70 * Avg Reward is ==> 52.444785028975936\n",
      "Episode * 43 68 * Avg Reward is ==> 57.26633464842912\n",
      "Episode * 44 71 * Avg Reward is ==> 62.09176501775605\n",
      "Episode * 45 71 * Avg Reward is ==> 64.90021393558146\n",
      "Episode * 46 71 * Avg Reward is ==> 68.72155439539446\n",
      "Episode * 47 73 * Avg Reward is ==> 72.05091458203933\n",
      "Episode * 48 73 * Avg Reward is ==> 74.99147470784347\n",
      "Episode * 49 72 * Avg Reward is ==> 75.2868740334358\n",
      "Episode * 50 76 * Avg Reward is ==> 79.90283672701442\n",
      "Episode * 51 72 * Avg Reward is ==> 80.0488643466463\n",
      "Episode * 52 73 * Avg Reward is ==> 80.1346027999838\n",
      "Episode * 53 72 * Avg Reward is ==> 80.20858604300258\n",
      "Episode * 54 72 * Avg Reward is ==> 80.31568145129907\n",
      "Episode * 55 74 * Avg Reward is ==> 80.34141163019504\n",
      "Episode * 56 75 * Avg Reward is ==> 80.42705845332789\n",
      "Episode * 57 74 * Avg Reward is ==> 80.76278761058703\n",
      "Episode * 58 74 * Avg Reward is ==> 80.90156066023094\n",
      "Episode * 59 77 * Avg Reward is ==> 81.04082475730522\n",
      "Episode * 60 73 * Avg Reward is ==> 81.18558590150086\n",
      "Episode * 61 72 * Avg Reward is ==> 81.34804585571453\n",
      "Episode * 62 73 * Avg Reward is ==> 82.4239300740671\n",
      "Episode * 63 74 * Avg Reward is ==> 83.24589433744583\n",
      "Episode * 64 72 * Avg Reward is ==> 83.6997637234246\n",
      "Episode * 65 70 * Avg Reward is ==> 83.93861470964666\n",
      "Episode * 66 72 * Avg Reward is ==> 84.94778403975583\n",
      "Episode * 67 71 * Avg Reward is ==> 85.10280338097263\n",
      "Episode * 68 74 * Avg Reward is ==> 85.37305201381264\n",
      "Episode * 69 73 * Avg Reward is ==> 85.65116852920282\n",
      "Episode * 70 70 * Avg Reward is ==> 86.12906283412505\n",
      "Episode * 71 69 * Avg Reward is ==> 86.6566756092537\n",
      "Episode * 72 69 * Avg Reward is ==> 86.92936348308069\n",
      "Episode * 73 70 * Avg Reward is ==> 87.02945178872216\n",
      "Episode * 74 69 * Avg Reward is ==> 87.29971087701469\n",
      "Episode * 75 69 * Avg Reward is ==> 90.19205726560666\n",
      "Episode * 76 69 * Avg Reward is ==> 90.30948569100231\n",
      "Episode * 77 72 * Avg Reward is ==> 90.50523620739389\n",
      "Episode * 78 71 * Avg Reward is ==> 93.01070790222246\n",
      "Episode * 79 68 * Avg Reward is ==> 93.00849662974606\n",
      "Episode * 80 69 * Avg Reward is ==> 92.97922360249161\n",
      "Episode * 81 71 * Avg Reward is ==> 92.96879955589789\n",
      "Episode * 82 70 * Avg Reward is ==> 92.96225555153354\n",
      "Episode * 83 70 * Avg Reward is ==> 92.95272970854624\n",
      "Episode * 84 69 * Avg Reward is ==> 92.95385097321906\n",
      "Episode * 85 70 * Avg Reward is ==> 92.95478274496915\n",
      "Episode * 86 70 * Avg Reward is ==> 92.95522427417879\n",
      "Episode * 87 68 * Avg Reward is ==> 92.96459628914178\n",
      "Episode * 88 72 * Avg Reward is ==> 92.96548326769403\n",
      "Episode * 89 69 * Avg Reward is ==> 92.97173140148672\n",
      "Episode * 90 68 * Avg Reward is ==> 92.9876388800611\n",
      "Episode * 91 67 * Avg Reward is ==> 92.99795831951047\n",
      "Episode * 92 67 * Avg Reward is ==> 93.01176077134096\n",
      "Episode * 93 70 * Avg Reward is ==> 93.01496238841591\n",
      "Episode * 94 68 * Avg Reward is ==> 93.02359977830835\n",
      "Episode * 95 67 * Avg Reward is ==> 93.03869350159616\n",
      "Episode * 96 68 * Avg Reward is ==> 93.05424004314982\n",
      "Episode * 97 68 * Avg Reward is ==> 93.06709204916709\n",
      "Episode * 98 68 * Avg Reward is ==> 93.08101061234936\n",
      "Episode * 99 68 * Avg Reward is ==> 93.10174502101668\n"
     ]
    },
    {
     "ename": "NameError",
     "evalue": "name 'plt' is not defined",
     "output_type": "error",
     "traceback": [
      "\u001b[1;31m---------------------------------------------------------------------------\u001b[0m",
      "\u001b[1;31mNameError\u001b[0m                                 Traceback (most recent call last)",
      "\u001b[1;32m<ipython-input-10-6ac04e47439e>\u001b[0m in \u001b[0;36m<module>\u001b[1;34m\u001b[0m\n\u001b[0;32m     29\u001b[0m     \u001b[0mavg_reward_list\u001b[0m\u001b[1;33m.\u001b[0m\u001b[0mappend\u001b[0m\u001b[1;33m(\u001b[0m\u001b[0mavg_reward\u001b[0m\u001b[1;33m)\u001b[0m\u001b[1;33m\u001b[0m\u001b[1;33m\u001b[0m\u001b[0m\n\u001b[0;32m     30\u001b[0m \u001b[1;33m\u001b[0m\u001b[0m\n\u001b[1;32m---> 31\u001b[1;33m \u001b[0mplt\u001b[0m\u001b[1;33m.\u001b[0m\u001b[0mplot\u001b[0m\u001b[1;33m(\u001b[0m\u001b[0mavg_reward_list\u001b[0m\u001b[1;33m)\u001b[0m\u001b[1;33m\u001b[0m\u001b[1;33m\u001b[0m\u001b[0m\n\u001b[0m\u001b[0;32m     32\u001b[0m \u001b[0mplt\u001b[0m\u001b[1;33m.\u001b[0m\u001b[0mxlabel\u001b[0m\u001b[1;33m(\u001b[0m\u001b[1;34m\"Episode\"\u001b[0m\u001b[1;33m)\u001b[0m\u001b[1;33m\u001b[0m\u001b[1;33m\u001b[0m\u001b[0m\n\u001b[0;32m     33\u001b[0m \u001b[0mplt\u001b[0m\u001b[1;33m.\u001b[0m\u001b[0mylabel\u001b[0m\u001b[1;33m(\u001b[0m\u001b[1;34m\"Avg. Epsiodic Reward\"\u001b[0m\u001b[1;33m)\u001b[0m\u001b[1;33m\u001b[0m\u001b[1;33m\u001b[0m\u001b[0m\n",
      "\u001b[1;31mNameError\u001b[0m: name 'plt' is not defined"
     ]
    }
   ],
   "source": [
    "for ep in range(total_episodes) :\n",
    "    prev_state = env.reset()\n",
    "    episodic_reward = 0\n",
    "    count = 0\n",
    "    epsilon -= 3 * ep * epsilon/total_episodes\n",
    "    epsilon = 0 if epsilon < 0 else epsilon\n",
    "    while True:\n",
    "        env.render()\n",
    "        tf_prev_state = tf.expand_dims(tf.convert_to_tensor(prev_state),0)\n",
    "        action = policy(tf_prev_state, noise, epsilon)\n",
    "        \n",
    "        state, reward, done, info = env.step(action)\n",
    "        \n",
    "        buffer.record((prev_state,action,reward,state))\n",
    "        episodic_reward += reward\n",
    "        count += 1\n",
    "        \n",
    "        buffer.learn()\n",
    "        update_target(target_actor.variables, actor_model.variables, tau)\n",
    "        update_target(target_critic.variables, critic_model.variables, tau)\n",
    "        \n",
    "        if done :\n",
    "            break\n",
    "        \n",
    "        prev_state = state\n",
    "    ep_reward_list.append(episodic_reward)\n",
    "    avg_reward = np.mean(ep_reward_list[-40:])\n",
    "    print(\"Episode * {} {} * Avg Reward is ==> {}\".format(ep, count, avg_reward))\n",
    "    avg_reward_list.append(avg_reward)"
   ]
  },
  {
   "cell_type": "code",
   "execution_count": 11,
   "metadata": {},
   "outputs": [
    {
     "data": {
      "image/png": "[encoded data removed]",
      "text/plain": [
       "<Figure size 432x288 with 1 Axes>"
      ]
     },
     "metadata": {
      "needs_background": "light"
     },
     "output_type": "display_data"
    }
   ],
   "source": [
    "import matplotlib.pyplot as plt\n",
    "\n",
    "plt.plot(avg_reward_list)\n",
    "plt.xlabel(\"Episode\")\n",
    "plt.ylabel(\"Avg. Epsiodic Reward\")\n",
    "plt.show()"
   ]
  }
 ],
 "metadata": {
  "kernelspec": {
   "display_name": "Python 3",
   "language": "python",
   "name": "python3"
  },
  "language_info": {
   "codemirror_mode": {
    "name": "ipython",
    "version": 3
   },
   "file_extension": ".py",
   "mimetype": "text/x-python",
   "name": "python",
   "nbconvert_exporter": "python",
   "pygments_lexer": "ipython3",
   "version": "3.8.3"
  }
 },
 "nbformat": 4,
 "nbformat_minor": 4
}
