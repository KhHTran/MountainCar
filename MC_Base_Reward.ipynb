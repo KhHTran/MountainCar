{
 "cells": [
  {
   "cell_type": "code",
   "execution_count": 1,
   "metadata": {},
   "outputs": [
    {
     "data": {
      "text/plain": [
       "<torch._C.Generator at 0x280e4efff10>"
      ]
     },
     "execution_count": 1,
     "metadata": {},
     "output_type": "execute_result"
    }
   ],
   "source": [
    "import gym\n",
    "from tqdm import tqdm, trange\n",
    "import torch\n",
    "import torchbearer\n",
    "from torch import nn\n",
    "from torch.nn import functional as F\n",
    "from torch import optim\n",
    "import matplotlib.pyplot as plt\n",
    "\n",
    "env_name = 'MountainCar-v0'\n",
    "env = gym.make(env_name)\n",
    "env.seed(1)\n",
    "torch.manual_seed(1)"
   ]
  },
  {
   "cell_type": "code",
   "execution_count": 2,
   "metadata": {},
   "outputs": [],
   "source": [
    "def weights_init(m):\n",
    "    classname = m.__class__.__name__\n",
    "    if classname.find('Linear') != -1:\n",
    "        nn.init.normal_(m.weight, 0, 1)\n",
    "\n",
    "class NeuralNet(nn.Module) :\n",
    "    def __init__(self, inp, hidden1, hidden2, out) :\n",
    "        super(NeuralNet, self).__init__()\n",
    "        self.fc1 = nn.Linear(inp, hidden1)\n",
    "        self.fc2 = nn.Linear(hidden1, hidden2)\n",
    "        self.fc3 = nn.Linear(hidden2, out)\n",
    "    def forward(self, x) :\n",
    "        model = torch.nn.Sequential(\n",
    "            self.fc1,\n",
    "            self.fc2,\n",
    "            self.fc3\n",
    "        )\n",
    "        return model(x)"
   ]
  },
  {
   "cell_type": "code",
   "execution_count": 3,
   "metadata": {},
   "outputs": [],
   "source": [
    "model = NeuralNet(2, 200, 50, 3)"
   ]
  },
  {
   "cell_type": "code",
   "execution_count": 5,
   "metadata": {},
   "outputs": [],
   "source": [
    "eps = 300\n",
    "alpha = 0.001\n",
    "epsilon = 0.3\n",
    "gamma = 0.99"
   ]
  },
  {
   "cell_type": "code",
   "execution_count": null,
   "metadata": {},
   "outputs": [
    {
     "name": "stderr",
     "output_type": "stream",
     "text": [
      " 56%|██████████████████████████████████████████▎                                 | 167/300 [3:13:24<1:50:55, 50.04s/it]"
     ]
    }
   ],
   "source": [
    "steps = 3000\n",
    "loss_func = nn.MSELoss()\n",
    "opt = optim.SGD(model.parameters(), alpha)\n",
    "success = 0\n",
    "\n",
    "for ep in trange(eps) :\n",
    "    obs = torch.Tensor(env.reset())\n",
    "    #Greedy 1st step of episode\n",
    "    \n",
    "    for s in range(steps):\n",
    "        env.render()\n",
    "        \n",
    "        # Epsilon greedy\n",
    "        Q = model(obs)\n",
    "        e = torch.rand(1).item()\n",
    "        if e <= epsilon :\n",
    "            a = torch.randint(env.action_space.n,[1])\n",
    "            a = a.item()\n",
    "        else :\n",
    "            _, a = torch.max(Q,-1)\n",
    "            a = a.item()\n",
    "        \n",
    "        #Q learning update rule\n",
    "        obs_, reward, done, _ = env.step(a)\n",
    "        obs_ = torch.Tensor(obs_)\n",
    "        Q_ = model(obs_)\n",
    "        Q_max, _ = torch.max(Q_, -1)\n",
    "        update = reward + gamma * Q_max.detach()\n",
    "        target = torch.autograd.Variable(Q.clone().data)\n",
    "        target[a] = update\n",
    "        \n",
    "        #GD on appropiate network\n",
    "        loss = loss_func(Q,target)\n",
    "        opt.zero_grad()\n",
    "        loss.backward()\n",
    "        opt.step()\n",
    "        if (done and obs_[0] >= 0.5) :\n",
    "            epsilon *= 0.5\n",
    "            success += 1\n",
    "            break\n",
    "        obs = obs_\n",
    "print(success, \"/300 episodes\")"
   ]
  },
  {
   "cell_type": "code",
   "execution_count": null,
   "metadata": {},
   "outputs": [],
   "source": []
  }
 ],
 "metadata": {
  "kernelspec": {
   "display_name": "Python 3",
   "language": "python",
   "name": "python3"
  },
  "language_info": {
   "codemirror_mode": {
    "name": "ipython",
    "version": 3
   },
   "file_extension": ".py",
   "mimetype": "text/x-python",
   "name": "python",
   "nbconvert_exporter": "python",
   "pygments_lexer": "ipython3",
   "version": "3.7.1"
  }
 },
 "nbformat": 4,
 "nbformat_minor": 2
}
